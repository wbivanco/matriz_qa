{
 "cells": [
  {
   "cell_type": "markdown",
   "metadata": {},
   "source": [
    "**Modulo MSI** \n",
    "*Input = .docx + .xlsx*\n"
   ]
  },
  {
   "cell_type": "code",
   "execution_count": 1,
   "metadata": {},
   "outputs": [],
   "source": [
    "from dotenv import load_dotenv\n",
    "from docx_parser import getDoc\n",
    "from docx_parser import getCsv\n",
    "from langchain import PromptTemplate\n",
    "from langchain.chat_models import AzureChatOpenAI\n",
    "from langchain.chains import LLMChain\n",
    "import os"
   ]
  },
  {
   "cell_type": "code",
   "execution_count": 2,
   "metadata": {},
   "outputs": [
    {
     "data": {
      "text/plain": [
       "True"
      ]
     },
     "execution_count": 2,
     "metadata": {},
     "output_type": "execute_result"
    }
   ],
   "source": [
    "# Cargo variables de configuración\n",
    "load_dotenv()"
   ]
  },
  {
   "cell_type": "code",
   "execution_count": 3,
   "metadata": {},
   "outputs": [],
   "source": [
    "# Carga el documento con los casos de prueba 7500 palabras aproximadamente.\n",
    "#context_file='documentos/migraciones/cp_migraciones.docx'\n",
    "#context_file='documentos/redenciones/cp_redenciones.docx'\n",
    "context_file = 'documentos/msi/cp_msi.docx'\n",
    "\n",
    "# Convierte el .docx a string\n",
    "document = getDoc(context_file)"
   ]
  },
  {
   "cell_type": "code",
   "execution_count": 4,
   "metadata": {},
   "outputs": [],
   "source": [
    "# Carga el documento con los casos de prueba 7500 palabras aproximadamente.\n",
    "#context_file1='documentos/migraciones/-------no tiene HU migraciones'\n",
    "#context_file1='documentos/redenciones/hu_redenciones.docx'\n",
    "context_file1='documentos/msi/hu_msi.docx'\n",
    "\n",
    "# Convierte el .docx a string.\n",
    "document1=getDoc(context_file1)"
   ]
  },
  {
   "cell_type": "code",
   "execution_count": 5,
   "metadata": {},
   "outputs": [],
   "source": [
    "# Carga csv generado a partir del excel de input.\n",
    "# La tabla fue reducida en columnas por límite de tokens.\n",
    "#csv_file_path = \"documentos/migraciones/cp_migraciones.csv\"\n",
    "#csv_file_path = \"documentos/redenciones/cp_redenciones.csv\"\n",
    "csv_file_path = \"documentos/msi/cp_msi.csv\"\n",
    "\n",
    "# Convierte a string\n",
    "tabla = getCsv(csv_file_path)"
   ]
  },
  {
   "cell_type": "code",
   "execution_count": 6,
   "metadata": {},
   "outputs": [],
   "source": [
    "# Define plantilla de prompt, pide CSV.\n",
    "template = \"\"\"\n",
    "Sos parte del equipo de testing re una compania de telecomunicaciones. Te voy a dar dos documentos (un texto y una tabla) con los requerimientos para testeo de uno de los modulos de una aplicacion.\n",
    " Necesito que identifiques todos los casos de prueba que puedas identificar. Deberás incluir la condicion esperada para cada uno de los casos.\n",
    " Dame el resultado en una tabla formato csv con las columnas 'CasoDePrueba' y 'ResultadoEsperado'. La columna 'Caso de prueba' debe contener el nombre del caso de prueba.\n",
    "   Esta es la tabla {tabla}\n",
    "   Este es el texto: {document}\n",
    "\"\"\"\n",
    "# Crea prompt como un objeto de Langchain.\n",
    "prompt = PromptTemplate.from_template(template)"
   ]
  },
  {
   "cell_type": "code",
   "execution_count": 7,
   "metadata": {},
   "outputs": [],
   "source": [
    "# Deefine plantilla prompt.\n",
    "template = \"\"\"\n",
    "Sos parte del equipo de testing re una compania de telecomunicaciones. Te voy a dar dos documentos (un texto y una tabla) con los requerimientos para testeo de uno de los modulos de una aplicacion.\n",
    " Necesito que identifiques todos los casos de prueba que puedas identificar. Deberás incluir la condicion esperada para cada uno de los casos.\n",
    "   Esta es la tabla {tabla}\n",
    "   Este es el texto: {document}\n",
    "\"\"\"\n",
    "# Crea prompt como un objeto de Langchain.\n",
    "prompt = PromptTemplate.from_template(template)"
   ]
  },
  {
   "cell_type": "code",
   "execution_count": 8,
   "metadata": {},
   "outputs": [],
   "source": [
    "\n",
    "# Define LLM de back.\n",
    "llm = AzureChatOpenAI (\n",
    "        azure_endpoint=os.getenv('API_BASE'),\n",
    "        openai_api_version=os.getenv('API_VERSION'),\n",
    "        deployment_name=os.getenv('CHAT_ENGINE_16K'),\n",
    "        openai_api_key=os.getenv('API_KEY'),\n",
    "        openai_api_type=os.getenv('API_TYPE'),\n",
    "        temperature=0,\n",
    "        model_version=\"0613\" # es importante aclararlo para el correcto calculo de los costos\n",
    "        )\n",
    "\n",
    "# Crea la cadena de Langchain.\n",
    "llm_chain = LLMChain(llm=llm, prompt=prompt)\n",
    "\n",
    "# Ejecuta la cadena con los documentos de input insertados en el prompt.\n",
    "result = llm_chain.run({\"document\":document, \"tabla\": tabla})"
   ]
  },
  {
   "cell_type": "code",
   "execution_count": 9,
   "metadata": {},
   "outputs": [
    {
     "name": "stdout",
     "output_type": "stream",
     "text": [
      "Casos de prueba identificados:\n",
      "\n",
      "1. Caso de prueba: Compra menor a $3,000\n",
      "   - Descripción: Se ingresa a la aplicación y muestra el banner para adquirir una terminal. Se selecciona una terminal con monto menor a $3,000 y la aplicación no muestra las opciones de MSI.\n",
      "   - DN: 5537685234\n",
      "   - Área Funcional / Sub proceso: Venta de Terminales\n",
      "   - Funcionalidad / Característica: MSI\n",
      "   - Datos / Acciones de Entrada: \n",
      "     * Banner de Venta Terminales\n",
      "     * Selección de terminal\n",
      "     * Aceptar términos y condiciones\n",
      "     * Validar opciones de pasarela de pago\n",
      "   - Resultado Esperado: La aplicación no muestra las opciones para MSI desde la pasarela de pago.\n",
      "   - Resultado Obtenido: Se realizaron pruebas con éxito\n",
      "   - Observaciones: Ok\n",
      "\n",
      "2. Caso de prueba: Compra superior a $3,000\n",
      "   - Descripción: Se ingresa a la aplicación y muestra el banner para adquirir una terminal. Se selecciona una terminal con monto superior a $3,000 y la aplicación muestra las opciones de MSI.\n",
      "   - DN: 5537685234\n",
      "   - Área Funcional / Sub proceso: Venta de Terminales\n",
      "   - Funcionalidad / Característica: MSI\n",
      "   - Datos / Acciones de Entrada: \n",
      "     * Banner de Venta Terminales\n",
      "     * Selección de terminal\n",
      "     * Aceptar términos y condiciones\n",
      "     * Validar opciones de pasarela de pago\n",
      "   - Resultado Esperado: La aplicación muestra las opciones para MSI desde la pasarela de pago.\n",
      "   - Resultado Obtenido: Se realizaron pruebas con éxito\n",
      "   - Observaciones: Ok\n"
     ]
    }
   ],
   "source": [
    "print(result)"
   ]
  },
  {
   "cell_type": "code",
   "execution_count": 10,
   "metadata": {},
   "outputs": [],
   "source": [
    "# Guardo los datos en un csv\n",
    "with open('testing_oneshot_docxls.csv', 'w') as file:\n",
    "    file.write(result)"
   ]
  },
  {
   "cell_type": "markdown",
   "metadata": {},
   "source": [
    "*Prompt en ingles*"
   ]
  },
  {
   "cell_type": "code",
   "execution_count": 9,
   "metadata": {},
   "outputs": [],
   "source": [
    "# Define plantill prompt.\n",
    "template_eng = \"\"\"\n",
    "You are part of the testing team for a telecommunications company. I'm going to provide you with two documents (a text and a table) with the testing requirements for one of the modules of an application.\n",
    "I need you to identify all the test cases you can find. You should include the expected condition for each case.\n",
    "Please provide the result in a CSV format table with columns 'CasoDePrueba' and 'ResultadoEsperado'. The 'CasoDePrueba' column should contain the name of each test case. The resultmust be in spanish.\n",
    "This is the table: {tabla}\n",
    "This is the text: {document}\n",
    "\"\"\"\n",
    "# Crea prompt como un objeto de Langchain.\n",
    "prompt_eng = PromptTemplate.from_template(template_eng)"
   ]
  },
  {
   "cell_type": "code",
   "execution_count": 10,
   "metadata": {},
   "outputs": [],
   "source": [
    "# Crea la cadena de Langchain.\n",
    "llm_chain = LLMChain(llm=llm, prompt=prompt_eng)\n",
    "# Ejecuta la cadena con los documentos de input insertados en el prompt.\n",
    "result=llm_chain.run({\"document\":document, \"tabla\": tabla})"
   ]
  },
  {
   "cell_type": "code",
   "execution_count": 11,
   "metadata": {},
   "outputs": [
    {
     "name": "stdout",
     "output_type": "stream",
     "text": [
      "CasoDePrueba;ResultadoEsperado\n",
      "Compra menor a $3,000;La aplicación no muestra las opciones para MSI desde la pasarela de pago.\n",
      "Compra superior a $3,000;La aplicación muestra las opciones para MSI desde la pasarela de pago.\n"
     ]
    }
   ],
   "source": [
    "print(result)"
   ]
  }
 ],
 "metadata": {
  "kernelspec": {
   "display_name": "venv",
   "language": "python",
   "name": "python3"
  },
  "language_info": {
   "codemirror_mode": {
    "name": "ipython",
    "version": 3
   },
   "file_extension": ".py",
   "mimetype": "text/x-python",
   "name": "python",
   "nbconvert_exporter": "python",
   "pygments_lexer": "ipython3",
   "version": "3.11.6"
  }
 },
 "nbformat": 4,
 "nbformat_minor": 2
}
