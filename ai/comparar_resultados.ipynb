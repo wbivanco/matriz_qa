{
 "cells": [
  {
   "cell_type": "code",
   "execution_count": 8,
   "metadata": {},
   "outputs": [],
   "source": [
    "import pandas as pd \n",
    "import numpy as np "
   ]
  },
  {
   "cell_type": "code",
   "execution_count": 10,
   "metadata": {},
   "outputs": [],
   "source": [
    "# Cargo los resultados a evaluar.\n",
    "df_resultados = pd.read_csv('documentos/resultados/redenciones_fs.csv', sep=',')"
   ]
  },
  {
   "cell_type": "code",
   "execution_count": 17,
   "metadata": {},
   "outputs": [
    {
     "data": {
      "text/html": [
       "<div>\n",
       "<style scoped>\n",
       "    .dataframe tbody tr th:only-of-type {\n",
       "        vertical-align: middle;\n",
       "    }\n",
       "\n",
       "    .dataframe tbody tr th {\n",
       "        vertical-align: top;\n",
       "    }\n",
       "\n",
       "    .dataframe thead th {\n",
       "        text-align: right;\n",
       "    }\n",
       "</style>\n",
       "<table border=\"1\" class=\"dataframe\">\n",
       "  <thead>\n",
       "    <tr style=\"text-align: right;\">\n",
       "      <th></th>\n",
       "      <th>1. Prueba de ingreso al mantenedor con el usuario NBA en la sección Parrillas flujos nativos</th>\n",
       "      <th>Pestaña Fidelización y Crear bloque.</th>\n",
       "    </tr>\n",
       "  </thead>\n",
       "  <tbody>\n",
       "    <tr>\n",
       "      <th>0</th>\n",
       "      <td>- Condición esperada: Creación exitosa del ...</td>\n",
       "      <td>NaN</td>\n",
       "    </tr>\n",
       "    <tr>\n",
       "      <th>1</th>\n",
       "      <td>2. Prueba de ingreso al mantenedor con el usua...</td>\n",
       "      <td>NaN</td>\n",
       "    </tr>\n",
       "    <tr>\n",
       "      <th>2</th>\n",
       "      <td>- Condición esperada: Generación exitosa de...</td>\n",
       "      <td>NaN</td>\n",
       "    </tr>\n",
       "    <tr>\n",
       "      <th>3</th>\n",
       "      <td>3. Prueba de ingreso a la aplicación con un DN...</td>\n",
       "      <td>ingreso al flujo Beneficios de tu línea y sel...</td>\n",
       "    </tr>\n",
       "    <tr>\n",
       "      <th>4</th>\n",
       "      <td>- Condición esperada: Redención exitosa y p...</td>\n",
       "      <td>NaN</td>\n",
       "    </tr>\n",
       "  </tbody>\n",
       "</table>\n",
       "</div>"
      ],
      "text/plain": [
       "  1. Prueba de ingreso al mantenedor con el usuario NBA en la sección Parrillas flujos nativos  \\\n",
       "0     - Condición esperada: Creación exitosa del ...                                             \n",
       "1  2. Prueba de ingreso al mantenedor con el usua...                                             \n",
       "2     - Condición esperada: Generación exitosa de...                                             \n",
       "3  3. Prueba de ingreso a la aplicación con un DN...                                             \n",
       "4     - Condición esperada: Redención exitosa y p...                                             \n",
       "\n",
       "                Pestaña Fidelización y Crear bloque.  \n",
       "0                                                NaN  \n",
       "1                                                NaN  \n",
       "2                                                NaN  \n",
       "3   ingreso al flujo Beneficios de tu línea y sel...  \n",
       "4                                                NaN  "
      ]
     },
     "execution_count": 17,
     "metadata": {},
     "output_type": "execute_result"
    }
   ],
   "source": [
    "df_resultados.head()"
   ]
  },
  {
   "cell_type": "code",
   "execution_count": 11,
   "metadata": {},
   "outputs": [],
   "source": [
    "# Cargo el CP.\n",
    "df_cp = pd.read_csv('documentos/redenciones/cp_redenciones.csv', sep=',')"
   ]
  },
  {
   "cell_type": "code",
   "execution_count": 18,
   "metadata": {},
   "outputs": [
    {
     "data": {
      "text/html": [
       "<div>\n",
       "<style scoped>\n",
       "    .dataframe tbody tr th:only-of-type {\n",
       "        vertical-align: middle;\n",
       "    }\n",
       "\n",
       "    .dataframe tbody tr th {\n",
       "        vertical-align: top;\n",
       "    }\n",
       "\n",
       "    .dataframe thead th {\n",
       "        text-align: right;\n",
       "    }\n",
       "</style>\n",
       "<table border=\"1\" class=\"dataframe\">\n",
       "  <thead>\n",
       "    <tr style=\"text-align: right;\">\n",
       "      <th></th>\n",
       "      <th>MÓDULO</th>\n",
       "      <th>FUNCIONALIDAD</th>\n",
       "      <th>PROCESO</th>\n",
       "      <th>SEGMENTO</th>\n",
       "      <th>CASO DE PRUEBA</th>\n",
       "    </tr>\n",
       "  </thead>\n",
       "  <tbody>\n",
       "    <tr>\n",
       "      <th>0</th>\n",
       "      <td>Redenciónes</td>\n",
       "      <td>Redencion Mantenedor -Exitoso</td>\n",
       "      <td>NaN</td>\n",
       "      <td>Control y pospago</td>\n",
       "      <td>NaN</td>\n",
       "    </tr>\n",
       "    <tr>\n",
       "      <th>1</th>\n",
       "      <td>Redenciónes</td>\n",
       "      <td>Redencion Mantenedor reportes -Exitoso</td>\n",
       "      <td>NaN</td>\n",
       "      <td>Control y pospago</td>\n",
       "      <td>NaN</td>\n",
       "    </tr>\n",
       "    <tr>\n",
       "      <th>2</th>\n",
       "      <td>Redenciónes</td>\n",
       "      <td>Redencion APP - Exitoso</td>\n",
       "      <td>NaN</td>\n",
       "      <td>Control y pospago</td>\n",
       "      <td>NaN</td>\n",
       "    </tr>\n",
       "    <tr>\n",
       "      <th>3</th>\n",
       "      <td>Redenciónes</td>\n",
       "      <td>Beneficios planes Giga Move y ofertas anterior...</td>\n",
       "      <td>Cupon GAMING</td>\n",
       "      <td>Control y pospago</td>\n",
       "      <td>Nov (14, 15 y 16)</td>\n",
       "    </tr>\n",
       "    <tr>\n",
       "      <th>4</th>\n",
       "      <td>Redenciónes</td>\n",
       "      <td>Beneficios planes Giga Move y ofertas anterior...</td>\n",
       "      <td>4 GB PARA NAVEGAR</td>\n",
       "      <td>Control y pospago</td>\n",
       "      <td>Nov (14, 15 y 16)</td>\n",
       "    </tr>\n",
       "  </tbody>\n",
       "</table>\n",
       "</div>"
      ],
      "text/plain": [
       "       MÓDULO                                       FUNCIONALIDAD  \\\n",
       "0  Redenciónes                      Redencion Mantenedor -Exitoso   \n",
       "1  Redenciónes             Redencion Mantenedor reportes -Exitoso   \n",
       "2  Redenciónes                            Redencion APP - Exitoso   \n",
       "3  Redenciónes  Beneficios planes Giga Move y ofertas anterior...   \n",
       "4  Redenciónes  Beneficios planes Giga Move y ofertas anterior...   \n",
       "\n",
       "             PROCESO           SEGMENTO     CASO DE PRUEBA  \n",
       "0                NaN  Control y pospago                NaN  \n",
       "1                NaN  Control y pospago                NaN  \n",
       "2                NaN  Control y pospago                NaN  \n",
       "3       Cupon GAMING  Control y pospago  Nov (14, 15 y 16)  \n",
       "4  4 GB PARA NAVEGAR  Control y pospago  Nov (14, 15 y 16)  "
      ]
     },
     "execution_count": 18,
     "metadata": {},
     "output_type": "execute_result"
    }
   ],
   "source": [
    "df_cp.head()"
   ]
  },
  {
   "cell_type": "code",
   "execution_count": 19,
   "metadata": {},
   "outputs": [],
   "source": [
    "# Cargo los resultado esperados.\n",
    "df_objetivos = pd.read_csv('documentos/redenciones/objetivos_redenciones.csv', encoding='ISO-8859-1', sep=';')"
   ]
  },
  {
   "cell_type": "code",
   "execution_count": 20,
   "metadata": {},
   "outputs": [
    {
     "data": {
      "text/html": [
       "<div>\n",
       "<style scoped>\n",
       "    .dataframe tbody tr th:only-of-type {\n",
       "        vertical-align: middle;\n",
       "    }\n",
       "\n",
       "    .dataframe tbody tr th {\n",
       "        vertical-align: top;\n",
       "    }\n",
       "\n",
       "    .dataframe thead th {\n",
       "        text-align: right;\n",
       "    }\n",
       "</style>\n",
       "<table border=\"1\" class=\"dataframe\">\n",
       "  <thead>\n",
       "    <tr style=\"text-align: right;\">\n",
       "      <th></th>\n",
       "      <th>MÓDULO</th>\n",
       "      <th>FUNCIONALIDAD</th>\n",
       "      <th>PROCESO</th>\n",
       "      <th>SEGMENTO</th>\n",
       "      <th>CASO DE PRUEBA</th>\n",
       "    </tr>\n",
       "  </thead>\n",
       "  <tbody>\n",
       "    <tr>\n",
       "      <th>0</th>\n",
       "      <td>Redenciónes</td>\n",
       "      <td>Redencion Mantenedor -Exitoso</td>\n",
       "      <td>NaN</td>\n",
       "      <td>Control y pospago</td>\n",
       "      <td>NaN</td>\n",
       "    </tr>\n",
       "    <tr>\n",
       "      <th>1</th>\n",
       "      <td>Redenciónes</td>\n",
       "      <td>Redencion Mantenedor reportes -Exitoso</td>\n",
       "      <td>NaN</td>\n",
       "      <td>Control y pospago</td>\n",
       "      <td>NaN</td>\n",
       "    </tr>\n",
       "    <tr>\n",
       "      <th>2</th>\n",
       "      <td>Redenciónes</td>\n",
       "      <td>Redencion APP - Exitoso</td>\n",
       "      <td>NaN</td>\n",
       "      <td>Control y pospago</td>\n",
       "      <td>NaN</td>\n",
       "    </tr>\n",
       "    <tr>\n",
       "      <th>3</th>\n",
       "      <td>Redenciónes</td>\n",
       "      <td>Beneficios planes Giga Move y ofertas anterior...</td>\n",
       "      <td>Cupon GAMING</td>\n",
       "      <td>Control y pospago</td>\n",
       "      <td>Nov (14, 15 y 16)</td>\n",
       "    </tr>\n",
       "    <tr>\n",
       "      <th>4</th>\n",
       "      <td>Redenciónes</td>\n",
       "      <td>Beneficios planes Giga Move y ofertas anterior...</td>\n",
       "      <td>4 GB PARA NAVEGAR</td>\n",
       "      <td>Control y pospago</td>\n",
       "      <td>Nov (14, 15 y 16)</td>\n",
       "    </tr>\n",
       "  </tbody>\n",
       "</table>\n",
       "</div>"
      ],
      "text/plain": [
       "       MÓDULO                                       FUNCIONALIDAD  \\\n",
       "0  Redenciónes                      Redencion Mantenedor -Exitoso   \n",
       "1  Redenciónes             Redencion Mantenedor reportes -Exitoso   \n",
       "2  Redenciónes                            Redencion APP - Exitoso   \n",
       "3  Redenciónes  Beneficios planes Giga Move y ofertas anterior...   \n",
       "4  Redenciónes  Beneficios planes Giga Move y ofertas anterior...   \n",
       "\n",
       "             PROCESO           SEGMENTO     CASO DE PRUEBA  \n",
       "0                NaN  Control y pospago                NaN  \n",
       "1                NaN  Control y pospago                NaN  \n",
       "2                NaN  Control y pospago                NaN  \n",
       "3       Cupon GAMING  Control y pospago  Nov (14, 15 y 16)  \n",
       "4  4 GB PARA NAVEGAR  Control y pospago  Nov (14, 15 y 16)  "
      ]
     },
     "execution_count": 20,
     "metadata": {},
     "output_type": "execute_result"
    }
   ],
   "source": [
    "df_objetivos.head()"
   ]
  }
 ],
 "metadata": {
  "kernelspec": {
   "display_name": "venv",
   "language": "python",
   "name": "python3"
  },
  "language_info": {
   "codemirror_mode": {
    "name": "ipython",
    "version": 3
   },
   "file_extension": ".py",
   "mimetype": "text/x-python",
   "name": "python",
   "nbconvert_exporter": "python",
   "pygments_lexer": "ipython3",
   "version": "3.11.6"
  }
 },
 "nbformat": 4,
 "nbformat_minor": 2
}
