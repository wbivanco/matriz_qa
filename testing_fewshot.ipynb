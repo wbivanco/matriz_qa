{
 "cells": [
  {
   "cell_type": "code",
   "execution_count": 51,
   "metadata": {},
   "outputs": [],
   "source": [
    "from dotenv import load_dotenv\n",
    "from docx_parser import getDoc\n",
    "from docx_parser import getCsv\n",
    "from langchain import FewShotPromptTemplate, PromptTemplate\n",
    "from langchain.chat_models import AzureChatOpenAI\n",
    "from langchain.chains import LLMChain\n",
    "import os"
   ]
  },
  {
   "cell_type": "code",
   "execution_count": 52,
   "metadata": {},
   "outputs": [
    {
     "data": {
      "text/plain": [
       "True"
      ]
     },
     "execution_count": 52,
     "metadata": {},
     "output_type": "execute_result"
    }
   ],
   "source": [
    "# Cargo variables de configuración\n",
    "load_dotenv()"
   ]
  },
  {
   "cell_type": "code",
   "execution_count": 53,
   "metadata": {},
   "outputs": [],
   "source": [
    "# Carga documento input y tabla objetivo.\n",
    "#context_file1 = 'documentos/migraciones/cp_migraciones.docx'\n",
    "#context1 = getDoc(context_file1)\n",
    "\n",
    "#targte_file1 = 'documentos/migraciones/objetivos_migraciones.csv'\n",
    "#target1 = getCsv(targte_file1)\n",
    "\n",
    "# Carga documento input y tabla objetivo.\n",
    "context_file2 = 'documentos/redenciones/cp_redenciones.docx'\n",
    "context2 = getDoc(context_file2)\n",
    "\n",
    "targte_file2 = 'documentos/redenciones/objetivos_redenciones.csv'\n",
    "target2 = getCsv(targte_file2)\n",
    "\n",
    "# Carga documento input y tabla objetivo.\n",
    "#context_file3 = 'documentos/msi/cp_msi.docx'\n",
    "#context3 = getDoc(context_file3)\n",
    "\n",
    "#targte_file3 = 'documentos/msi/objetivos_msi.csv'\n",
    "#target3 = getCsv(targte_file3)"
   ]
  },
  {
   "cell_type": "code",
   "execution_count": 54,
   "metadata": {},
   "outputs": [],
   "source": [
    "prompt = \"\"\"You will be provided with a context from which you should extract multiple test cases by identifying the following aspects:\n",
    " 'Caso de prueba', 'Modulo', 'Funcionalidad', 'Proceso' and 'Segmento'.\n",
    "   As the text contains multiple test cases, the output should be presented in a csv format table.\n",
    "   Here is an example:\"\"\""
   ]
  },
  {
   "cell_type": "code",
   "execution_count": 55,
   "metadata": {},
   "outputs": [],
   "source": [
    "examples = [\n",
    "    {\n",
    "        \"context\": context2,\n",
    "        \"result\": target2\n",
    "    } \n",
    "]"
   ]
  },
  {
   "cell_type": "code",
   "execution_count": 36,
   "metadata": {},
   "outputs": [
    {
     "data": {
      "text/plain": [
       "'examples = [\\n    {\\n        \"context\": context1,\\n        \"result\": target1\\n    },\\n    {\\n        \"context\": context2,\\n        \"result\": target2\\n    },\\n    {\\n        \"context\": context3,\\n        \"result\": target3\\n    }\\n]'"
      ]
     },
     "execution_count": 36,
     "metadata": {},
     "output_type": "execute_result"
    }
   ],
   "source": [
    "\"\"\"examples = [\n",
    "    {\n",
    "        \"context\": context1,\n",
    "        \"result\": target1\n",
    "    },\n",
    "    {\n",
    "        \"context\": context2,\n",
    "        \"result\": target2\n",
    "    },\n",
    "    {\n",
    "        \"context\": context3,\n",
    "        \"result\": target3\n",
    "    }\n",
    "]\"\"\""
   ]
  },
  {
   "cell_type": "code",
   "execution_count": 56,
   "metadata": {},
   "outputs": [],
   "source": [
    "example_template = \"\"\"\n",
    "Context: {context}\n",
    "Result: {result}\n",
    "\"\"\"\n",
    "\n",
    "\n",
    "example_prompt = PromptTemplate(\n",
    "    input_variables=[\"context\", \"result\"],\n",
    "    template=example_template\n",
    ")\n",
    "\n",
    "\n",
    "prefix = \"\"\"Sos parte del equipo de testing re una compania de telecomunicaciones.\n",
    "Te voy a dar un documento con requerimientos de testeo para uno de los modulos de la aplicacion.\n",
    "Necesito que hagas una lista con todos los casos de prueba que puedas identificar.\n",
    " Deberás incluir la condicion esperada para cada uno de los casos.\n",
    "    \n",
    "   Aqui hay ejemplos:\n",
    "   \"\"\"\n",
    "\n",
    "suffix = \"\"\"\n",
    "Context: {new_context}\n",
    "Result: \"\"\"\n",
    "\n",
    "few_shot_prompt_template = FewShotPromptTemplate(\n",
    "    examples=examples,\n",
    "    example_prompt=example_prompt,\n",
    "    prefix=prefix,\n",
    "    suffix=suffix,\n",
    "    input_variables=[\"new_context\"],\n",
    "    example_separator=\"\\n\\n\"\n",
    ")\n"
   ]
  },
  {
   "cell_type": "code",
   "execution_count": 57,
   "metadata": {},
   "outputs": [],
   "source": [
    "#contexto_path = 'documentos/migraciones/hu_migraciones.docx'\n",
    "contexto_path = 'documentos/redenciones/hu_redenciones.docx'\n",
    "#contexto_path = 'documentos/msi/hu_msi.docx'\n",
    "nuevo_contexto = getDoc(contexto_path)\n",
    "#print(nuevo_contexto)"
   ]
  },
  {
   "cell_type": "code",
   "execution_count": 58,
   "metadata": {},
   "outputs": [],
   "source": [
    "llm = AzureChatOpenAI (\n",
    "        azure_endpoint=os.getenv('API_BASE'),\n",
    "        openai_api_version=os.getenv('API_VERSION'),\n",
    "        deployment_name=os.getenv('CHAT_ENGINE_16K'),\n",
    "        openai_api_key=os.getenv('API_KEY'),\n",
    "        openai_api_type=os.getenv('API_TYPE'),\n",
    "        temperature=0,\n",
    "        model_version=\"0613\" # es importante aclararlo para el correcto calculo de los costos\n",
    "        )\n",
    "\n",
    "llm_chain = LLMChain(llm=llm, prompt=few_shot_prompt_template)\n",
    "\n",
    "result = llm_chain(nuevo_contexto)"
   ]
  },
  {
   "cell_type": "code",
   "execution_count": 59,
   "metadata": {},
   "outputs": [
    {
     "data": {
      "text/plain": [
       "'MÓDULO ;FUNCIONALIDAD;PROCESO;SEGMENTO;CASO DE PRUEBA\\nRedenciónes;Mantenedor - Bonos, Descuentos y Regalos;Ingresar bono, descuento o regalo;Control y pospago;\\nRedenciónes;Mantenedor - Bonos, Descuentos y Regalos;Seleccionar bono, descuento o regalo;Control y pospago;\\nRedenciónes;Mantenedor - Bonos, Descuentos y Regalos;Visualizar bono, descuento o regalo seleccionado;Control y pospago;\\nRedenciónes;Mantenedor - Bonos, Descuentos y Regalos;Eliminar bono, descuento o regalo seleccionado;Control y pospago;\\nRedenciónes;Mantenedor - Bonos, Descuentos y Regalos;Ingresar imagen para bono, descuento o regalo;Control y pospago;\\nRedenciónes;Mantenedor - Campaña Fidelización;Configurar regalo por antigüedad del cliente;Control y pospago;\\nRedenciónes;Mantenedor - Campaña Fidelización;Configurar vigencia de visualización del regalo;Control y pospago;\\nRedenciónes;Mantenedor - Campaña Fidelización;Ingresar bono, descuento o regalo para la campaña;Control y pospago;\\nRedenciónes;Mantenedor - Campaña Fidelización;Seleccionar bono, descuento o regalo para la campaña;Control y pospago;\\nRedenciónes;Mantenedor - Campaña Fidelización;Visualizar bono, descuento o regalo seleccionado para la campaña;Control y pospago;\\nRedenciónes;Mantenedor - Campaña Fidelización;Eliminar bono, descuento o regalo seleccionado para la campaña;Control y pospago;\\nRedenciónes;Mantenedor - Campaña Fidelización;Ingresar imagen para bono, descuento o regalo de la campaña;Control y pospago;\\nRedenciónes;Mantenedor - Reportes;Generar reporte por rango de fechas;Control y pospago;\\nRedenciónes;Mantenedor - Reportes;Descargar reporte generado;Control y pospago;\\nRedenciónes;Mantenedor - Reportes;Visualizar DN del cliente en el reporte;Control y pospago;\\nRedenciónes;Mantenedor - Reportes;Visualizar bono seleccionado en el reporte;Control y pospago;\\nRedenciónes;Mantenedor - Reportes;Visualizar fecha en el reporte;Control y pospago;\\nRedenciónes;Deeplink;Generar Deeplink para comunicación;Control y pospago;'"
      ]
     },
     "execution_count": 59,
     "metadata": {},
     "output_type": "execute_result"
    }
   ],
   "source": [
    "result['text']"
   ]
  }
 ],
 "metadata": {
  "kernelspec": {
   "display_name": "venv",
   "language": "python",
   "name": "python3"
  },
  "language_info": {
   "codemirror_mode": {
    "name": "ipython",
    "version": 3
   },
   "file_extension": ".py",
   "mimetype": "text/x-python",
   "name": "python",
   "nbconvert_exporter": "python",
   "pygments_lexer": "ipython3",
   "version": "3.11.6"
  }
 },
 "nbformat": 4,
 "nbformat_minor": 2
}
